{
 "cells": [
  {
   "cell_type": "code",
   "execution_count": 1,
   "metadata": {
    "collapsed": true
   },
   "outputs": [],
   "source": [
    "import numpy as np\n",
    "\n",
    "import matplotlib.pyplot as plt\n",
    "import seaborn as sns\n",
    "%matplotlib inline"
   ]
  },
  {
   "cell_type": "markdown",
   "metadata": {},
   "source": [
    "## This cell below is the starter code provided by Udacity."
   ]
  },
  {
   "cell_type": "code",
   "execution_count": 2,
   "metadata": {
    "collapsed": true
   },
   "outputs": [],
   "source": [
    "import sys\n",
    "import pickle\n",
    "sys.path.append(\"./tools/\")\n",
    "\n",
    "from feature_format import featureFormat, targetFeatureSplit\n",
    "from tester import dump_classifier_and_data\n",
    "\n",
    "### Task 1: Select what features you'll use.\n",
    "### features_list is a list of strings, each of which is a feature name.\n",
    "### The first feature must be \"poi\".\n",
    "features_list = ['poi',\n",
    "                 'total_stock_value',\n",
    "                 'total_payments',\n",
    "                 'restricted_stock',\n",
    "                 'exercised_stock_options',\n",
    "                 'salary',\n",
    "                 'expenses',\n",
    "                 'other',\n",
    "                 'to_messages',\n",
    "                 'shared_receipt_with_poi',\n",
    "                 'from_messages',\n",
    "                 'from_this_person_to_poi',\n",
    "                 'from_poi_to_this_person',\n",
    "                 'bonus']\n",
    "\n",
    "### Load the dictionary containing the dataset\n",
    "with open(\"final_project_dataset.pkl\", \"r\") as data_file:\n",
    "    data_dict = pickle.load(data_file)\n",
    "\n",
    "### Task 2: Remove outliers\n",
    "\n",
    "### Task 3: Create new feature(s)\n",
    "### Store to my_dataset for easy export below.\n",
    "my_dataset = data_dict\n",
    "\n",
    "### Extract features and labels from dataset for local testing\n",
    "data = featureFormat(my_dataset, features_list, sort_keys = True)\n",
    "labels, features = targetFeatureSplit(data)\n",
    "\n",
    "### Task 4: Try a variety of classifiers\n",
    "### Please name your classifier clf for easy export below.\n",
    "### Note that if you want to do PCA or other multi-stage operations,\n",
    "### you'll need to use Pipelines. For more info:\n",
    "### http://scikit-learn.org/stable/modules/pipeline.html\n",
    "\n",
    "# Provided to give you a starting point. Try a variety of classifiers.\n",
    "from sklearn.naive_bayes import GaussianNB\n",
    "clf = GaussianNB()\n",
    "\n",
    "### Task 5: Tune your classifier to achieve better than .3 precision and recall\n",
    "### using our testing script. Check the tester.py script in the final project\n",
    "### folder for details on the evaluation method, especially the test_classifier\n",
    "### function. Because of the small size of the dataset, the script uses\n",
    "### stratified shuffle split cross validation. For more info:\n",
    "### http://scikit-learn.org/stable/modules/generated/sklearn.cross_validation.StratifiedShuffleSplit.html\n",
    "\n",
    "# Example starting point. Try investigating other evaluation techniques!\n",
    "from sklearn.cross_validation import train_test_split\n",
    "features_train, features_test, labels_train, labels_test = \\\n",
    "    train_test_split(features, labels, test_size=0.3, random_state=42)\n",
    "\n",
    "### Task 6: Dump your classifier, dataset, and features_list so anyone can\n",
    "### check your results. You do not need to change anything below, but make sure\n",
    "### that the version of poi_id.py that you submit can be run on its own and\n",
    "### generates the necessary .pkl files for validating your results.\n",
    "\n",
    "# I don't need to dump it right now.\n",
    "# dump_classifier_and_data(clf, my_dataset, features_list)"
   ]
  },
  {
   "cell_type": "code",
   "execution_count": 3,
   "metadata": {
    "collapsed": false,
    "scrolled": false
   },
   "outputs": [],
   "source": [
    "# Investigate amount of usable data for each data point\n",
    "TOTAL_ITEMS = len(data_dict[data_dict.keys()[0]].keys()) - 1 # minus 1 to exclude POI indicator\n",
    "proportion_unusable_data = {}\n",
    "for person, data in data_dict.items():\n",
    "    num_NaN = 0\n",
    "    for key, value in data.items():\n",
    "        if key != 'poi':\n",
    "            if value == 'NaN':\n",
    "                num_NaN += 1\n",
    "    proportion_unusable_data[person] = num_NaN / float(TOTAL_ITEMS)"
   ]
  },
  {
   "cell_type": "code",
   "execution_count": 4,
   "metadata": {
    "collapsed": false,
    "scrolled": true
   },
   "outputs": [
    {
     "data": {
      "text/plain": [
       "[('LOCKHART EUGENE E', 1.0),\n",
       " ('WHALEY DAVID A', 0.9),\n",
       " ('WROBEL BRUCE', 0.9),\n",
       " ('THE TRAVEL AGENCY IN THE PARK', 0.9),\n",
       " ('GRAMM WENDY L', 0.9),\n",
       " ('WODRASKA JOHN', 0.85),\n",
       " ('CLINE KENNETH W', 0.85),\n",
       " ('WAKEHAM JOHN', 0.85),\n",
       " ('GILLIS JOHN', 0.85),\n",
       " ('SCRIMSHAW MATTHEW', 0.85),\n",
       " ('SAVAGE FRANK', 0.85),\n",
       " ('LOWRY CHARLES P', 0.8),\n",
       " ('CHAN RONNIE', 0.8),\n",
       " ('URQUHART JOHN A', 0.8),\n",
       " ('MENDELSOHN JOHN', 0.8),\n",
       " ('MEYER JEROME J', 0.8),\n",
       " ('GATHMANN WILLIAM D', 0.8),\n",
       " ('PEREIRA PAULO V. FERRAZ', 0.8),\n",
       " ('BLAKE JR. NORMAN P', 0.8),\n",
       " ('CHRISTODOULOU DIOMEDES', 0.8),\n",
       " ('WINOKUR JR. HERBERT S', 0.8),\n",
       " ('YEAP SOON', 0.8),\n",
       " ('FUGH JOHN L', 0.8),\n",
       " ('NOLES JAMES L', 0.75),\n",
       " ('WALTERS GARETH W', 0.75),\n",
       " ('DUNCAN JOHN H', 0.75),\n",
       " ('LEMAISTRE CHARLES', 0.75),\n",
       " ('BADUM JAMES P', 0.75),\n",
       " ('GRAY RODNEY', 0.75),\n",
       " ('BELFER ROBERT', 0.7),\n",
       " ('PRENTICE JAMES', 0.7),\n",
       " ('BERBERIAN DAVID', 0.65),\n",
       " ('BAZELIDES PHILIP J', 0.65),\n",
       " ('JAEDICKE ROBERT', 0.65),\n",
       " ('HIRKO JOSEPH', 0.65),\n",
       " ('MORDAUNT KRISTINA M', 0.6),\n",
       " ('LEWIS RICHARD', 0.6),\n",
       " ('POWERS WILLIAM', 0.6),\n",
       " ('KISHKILL JOSEPH G', 0.6),\n",
       " ('PIRO JIM', 0.6),\n",
       " ('SULLIVAN-SHAKLOVITZ COLLEEN', 0.6),\n",
       " ('CUMBERLAND MICHAEL S', 0.6),\n",
       " ('STABLER FRANK', 0.6),\n",
       " ('BROWN MICHAEL', 0.6),\n",
       " ('YEAGER F SCOTT', 0.6),\n",
       " ('HAYSLETT RODERICK J', 0.6),\n",
       " ('CORDES WILLIAM R', 0.55),\n",
       " ('WESTFAHL RICHARD K', 0.55),\n",
       " ('KOPPER MICHAEL J', 0.55),\n",
       " ('GOLD JOSEPH', 0.55),\n",
       " ('MCDONALD REBECCA', 0.55),\n",
       " ('MORAN MICHAEL P', 0.55),\n",
       " ('OVERDYKE JR JERE C', 0.55),\n",
       " ('SHERRICK JEFFREY B', 0.55),\n",
       " ('FOWLER PEGGY', 0.55),\n",
       " ('WHITE JR THOMAS E', 0.55),\n",
       " ('HUGHES JAMES A', 0.55),\n",
       " ('PAI LOU L', 0.55),\n",
       " ('MCCARTY DANNY J', 0.55),\n",
       " ('ELLIOTT STEVEN', 0.5),\n",
       " ('HAUG DAVID L', 0.5),\n",
       " ('ECHOLS JOHN B', 0.5),\n",
       " ('HAYES ROBERT E', 0.5),\n",
       " ('BUTTS ROBERT H', 0.5),\n",
       " ('GAHN ROBERT S', 0.5),\n",
       " ('DIMICHELE RICHARD G', 0.5),\n",
       " ('FASTOW ANDREW S', 0.5),\n",
       " ('FOY JOE', 0.5),\n",
       " ('UMANOFF ADAM S', 0.5),\n",
       " ('BAXTER JOHN C', 0.45),\n",
       " ('MEYER ROCKFORD G', 0.45),\n",
       " ('GIBBS DANA R', 0.45),\n",
       " ('LINDHOLM TOD A', 0.45),\n",
       " ('HERMANN ROBERT J', 0.45),\n",
       " ('HORTON STANLEY C', 0.45),\n",
       " ('DODSON KEITH', 0.45),\n",
       " ('BAY FRANKLIN R', 0.45),\n",
       " ('HUMPHREY GENE E', 0.4),\n",
       " ('REDMOND BRIAN L', 0.4),\n",
       " ('REYNOLDS LAWRENCE', 0.4),\n",
       " ('BHATNAGAR SANJAY', 0.4),\n",
       " ('METTS MARK', 0.35),\n",
       " ('SUNDE MARTIN', 0.35),\n",
       " ('BECK SALLY W', 0.35),\n",
       " ('LEFF DANIEL P', 0.35),\n",
       " ('DETMERING TIMOTHY J', 0.35),\n",
       " ('PICKERING MARK R', 0.35),\n",
       " ('TAYLOR MITCHELL S', 0.35),\n",
       " ('JACKSON CHARLENE R', 0.3),\n",
       " ('KITCHEN LOUISE', 0.3),\n",
       " ('HICKERSON GARY J', 0.3),\n",
       " ('SHAPIRO RICHARD S', 0.3),\n",
       " ('SHERRIFF JOHN R', 0.3),\n",
       " ('TOTAL', 0.3),\n",
       " ('CARTER REBECCA C', 0.3),\n",
       " ('IZZO LAWRENCE L', 0.3),\n",
       " ('MARTIN AMANDA K', 0.3),\n",
       " ('MCMAHON JEFFREY', 0.25),\n",
       " ('BLACHMAN JEREMY M', 0.25),\n",
       " ('COLWELL WESLEY', 0.25),\n",
       " ('WALLS JR ROBERT H', 0.25),\n",
       " ('SHANKMAN JEFFREY A', 0.25),\n",
       " ('BERGSIEKER RICHARD P', 0.25),\n",
       " ('BIBI PHILIPPE A', 0.25),\n",
       " ('LAVORATO JOHN J', 0.25),\n",
       " ('BANNANTINE JAMES M', 0.25),\n",
       " ('SHELBY REX', 0.25),\n",
       " ('DEFFNER JOSEPH M', 0.25),\n",
       " ('WHALLEY LAWRENCE G', 0.25),\n",
       " ('MCCONNELL MICHAEL S', 0.25),\n",
       " ('DELAINEY DAVID W', 0.25),\n",
       " ('FALLON JAMES B', 0.25),\n",
       " ('BOWEN JR RAYMOND M', 0.25),\n",
       " ('FITZGERALD JAY L', 0.25),\n",
       " ('DURAN WILLIAM D', 0.25),\n",
       " ('THORN TERENCE H', 0.25),\n",
       " ('CALGER CHRISTOPHER F', 0.25),\n",
       " ('KAMINSKI WINCENTY J', 0.25),\n",
       " ('COX DAVID', 0.25),\n",
       " ('SKILLING JEFFREY K', 0.25),\n",
       " ('KEAN STEVEN J', 0.25),\n",
       " ('MCCLELLAN GEORGE', 0.25),\n",
       " ('BUCHANAN HAROLD G', 0.25),\n",
       " ('MURRAY JULIA H', 0.25),\n",
       " ('GARLAND C KEVIN', 0.25),\n",
       " ('DIETRICH JANET R', 0.25),\n",
       " ('KOENIG MARK E', 0.25),\n",
       " ('TILNEY ELIZABETH A', 0.25),\n",
       " ('CAUSEY RICHARD A', 0.25),\n",
       " ('DONAHUE JR JEFFREY M', 0.25),\n",
       " ('GLISAN JR BEN F', 0.25),\n",
       " ('HANNON KEVIN P', 0.2),\n",
       " ('MULLER MARK S', 0.2),\n",
       " ('RIEKER PAULA H', 0.2),\n",
       " ('OLSON CINDY K', 0.2),\n",
       " ('BELDEN TIMOTHY N', 0.2),\n",
       " ('RICE KENNETH D', 0.2),\n",
       " ('WASAFF GEORGE', 0.2),\n",
       " ('SHARP VICTORIA T', 0.2),\n",
       " ('BUY RICHARD B', 0.2),\n",
       " ('PIPER GREGORY F', 0.15),\n",
       " ('DERRICK JR. JAMES V', 0.15),\n",
       " ('HAEDICKE MARK E', 0.1),\n",
       " ('LAY KENNETH L', 0.1),\n",
       " ('ALLEN PHILLIP K', 0.1),\n",
       " ('FREVERT MARK A', 0.1)]"
      ]
     },
     "execution_count": 4,
     "metadata": {},
     "output_type": "execute_result"
    }
   ],
   "source": [
    "sorted(proportion_unusable_data.items(), key=lambda x: x[1], reverse=True)"
   ]
  },
  {
   "cell_type": "markdown",
   "metadata": {},
   "source": [
    "## Data Exploration"
   ]
  },
  {
   "cell_type": "code",
   "execution_count": 5,
   "metadata": {
    "collapsed": false,
    "scrolled": true
   },
   "outputs": [
    {
     "name": "stdout",
     "output_type": "stream",
     "text": [
      "Number of data points: 146\n",
      "Number of POI: 18\n",
      "Number of non-POI: 128\n",
      "Proportion of POI to non-POI: 0.140625\n",
      "Number of features available at the start: 20\n",
      "Feature 'salary' has 51 missing values out of 146, or 0.349315068493\n",
      "Feature 'to_messages' has 60 missing values out of 146, or 0.41095890411\n",
      "Feature 'deferral_payments' has 107 missing values out of 146, or 0.732876712329\n",
      "Feature 'total_payments' has 21 missing values out of 146, or 0.143835616438\n",
      "Feature 'exercised_stock_options' has 44 missing values out of 146, or 0.301369863014\n",
      "Feature 'bonus' has 64 missing values out of 146, or 0.438356164384\n",
      "Feature 'restricted_stock' has 36 missing values out of 146, or 0.246575342466\n",
      "Feature 'shared_receipt_with_poi' has 60 missing values out of 146, or 0.41095890411\n",
      "Feature 'restricted_stock_deferred' has 128 missing values out of 146, or 0.876712328767\n",
      "Feature 'total_stock_value' has 20 missing values out of 146, or 0.13698630137\n",
      "Feature 'expenses' has 51 missing values out of 146, or 0.349315068493\n",
      "Feature 'loan_advances' has 142 missing values out of 146, or 0.972602739726\n",
      "Feature 'from_messages' has 60 missing values out of 146, or 0.41095890411\n",
      "Feature 'other' has 53 missing values out of 146, or 0.36301369863\n",
      "Feature 'from_this_person_to_poi' has 60 missing values out of 146, or 0.41095890411\n",
      "Feature 'director_fees' has 129 missing values out of 146, or 0.883561643836\n",
      "Feature 'deferred_income' has 97 missing values out of 146, or 0.664383561644\n",
      "Feature 'long_term_incentive' has 80 missing values out of 146, or 0.547945205479\n",
      "Feature 'email_address' has 35 missing values out of 146, or 0.239726027397\n",
      "Feature 'from_poi_to_this_person' has 60 missing values out of 146, or 0.41095890411\n",
      "| Feature | # Missing Values | Proportion of Missing Values |\n",
      "|:--|:--|:--|\n",
      "| total_stock_value | 20 | 0.137 |\n",
      "| total_payments | 21 | 0.144 |\n",
      "| email_address | 35 | 0.24 |\n",
      "| restricted_stock | 36 | 0.247 |\n",
      "| exercised_stock_options | 44 | 0.301 |\n",
      "| salary | 51 | 0.349 |\n",
      "| expenses | 51 | 0.349 |\n",
      "| other | 53 | 0.363 |\n",
      "| to_messages | 60 | 0.411 |\n",
      "| shared_receipt_with_poi | 60 | 0.411 |\n",
      "| from_messages | 60 | 0.411 |\n",
      "| from_this_person_to_poi | 60 | 0.411 |\n",
      "| from_poi_to_this_person | 60 | 0.411 |\n",
      "| bonus | 64 | 0.438 |\n",
      "| long_term_incentive | 80 | 0.548 |\n",
      "| deferred_income | 97 | 0.664 |\n",
      "| deferral_payments | 107 | 0.733 |\n",
      "| restricted_stock_deferred | 128 | 0.877 |\n",
      "| director_fees | 129 | 0.884 |\n",
      "| loan_advances | 142 | 0.973 |\n"
     ]
    }
   ],
   "source": [
    "# Let's take a look at our data set and get familiar with our data points\n",
    "num_data_points = len(data_dict)\n",
    "\n",
    "num_poi, num_no_poi = 0, 0\n",
    "for person in data_dict.keys():\n",
    "    if data_dict[person]['poi'] == 0:\n",
    "        num_no_poi += 1\n",
    "    else:\n",
    "        num_poi += 1\n",
    "\n",
    "print(\"Number of data points: \" + str(num_data_points))\n",
    "print(\"Number of POI: \" + str(num_poi))\n",
    "print(\"Number of non-POI: \" + str(num_no_poi))\n",
    "print(\"Proportion of POI to non-POI: \" + str(num_poi/float(num_no_poi)))\n",
    "\n",
    "# Count total features available \"out of the box\"\n",
    "features_list = data_dict[data_dict.keys()[0]].keys()\n",
    "print(\"Number of features available at the start: \"\n",
    "      + str(len(features_list) - 1))    # minus one to exclude 'poi' label\n",
    "                                        # which is not a feature\n",
    "\n",
    "# Are there features with many missing values?\n",
    "missing_values = []\n",
    "\n",
    "for feature in [f for f in features_list if f != 'poi']:\n",
    "    num_nan = 0\n",
    "    for person in data_dict.keys():\n",
    "        feature_value = data_dict[person][feature]\n",
    "        if feature_value == 'NaN':  # Missing values are encoded as 'NaN'\n",
    "            num_nan += 1\n",
    "    print(\"Feature '\"+feature+\"' has \"+str(num_nan)+\" missing values out of \"\n",
    "          +str(num_data_points)+\", or \"+str(num_nan/float(num_data_points))+\"\")\n",
    "    missing_values.append((feature, num_nan, num_data_points, num_nan/float(num_data_points)))\n",
    "\n",
    "\n",
    "# Prep report table\n",
    "print(\"| Feature | # Missing Values | Proportion of Missing Values |\") # header\n",
    "print(\"|:--|:--|:--|\") # formatting\n",
    "# Sort list of features according to number of missing values:\n",
    "for row in sorted(missing_values, key=lambda x: x[3]):\n",
    "    print(\"| \"+str(row[0])+\" | \"+str(row[1])+\" | \"+str(round(row[3], 3))+\" |\")"
   ]
  },
  {
   "cell_type": "code",
   "execution_count": 6,
   "metadata": {
    "collapsed": false
   },
   "outputs": [
    {
     "data": {
      "text/plain": [
       "0.13636363636363635"
      ]
     },
     "execution_count": 6,
     "metadata": {},
     "output_type": "execute_result"
    }
   ],
   "source": [
    "clf.fit(features_train, labels_train)\n",
    "predictions = clf.predict(features_test)\n",
    "clf.score(features_test, labels_test)"
   ]
  },
  {
   "cell_type": "code",
   "execution_count": 7,
   "metadata": {
    "collapsed": false
   },
   "outputs": [
    {
     "name": "stdout",
     "output_type": "stream",
     "text": [
      "Precision: 0.136363636364\n",
      "Recall: 1.0\n"
     ]
    }
   ],
   "source": [
    "# Test for errors:\n",
    "from sklearn.metrics import precision_score, recall_score\n",
    "\n",
    "print('Precision: '+str(precision_score(labels_test, predictions)))\n",
    "print('Recall: '+str(recall_score(labels_test, predictions)))"
   ]
  },
  {
   "cell_type": "markdown",
   "metadata": {},
   "source": [
    "## Outlier Visualization"
   ]
  },
  {
   "cell_type": "code",
   "execution_count": 8,
   "metadata": {
    "collapsed": true
   },
   "outputs": [],
   "source": [
    "def load_features(features_list):\n",
    "    \"Auxiliary function to load new features from data set.\"\n",
    "    ### The first feature in features_list must be \"poi\".\n",
    "    ### Extract features and labels from dataset for local testing\n",
    "    data = featureFormat(my_dataset, features_list, sort_keys = True)\n",
    "    labels, features = targetFeatureSplit(data)\n",
    "\n",
    "    return labels, features"
   ]
  },
  {
   "cell_type": "code",
   "execution_count": 9,
   "metadata": {
    "collapsed": false,
    "scrolled": false
   },
   "outputs": [],
   "source": [
    "def plot_features(features, labels, features_list):\n",
    "    ### The first feature in features_list must be \"poi\".\n",
    "\n",
    "    # Color POIs as red and non-POIs as blue\n",
    "    color_map = map(lambda x: 'b' if x == 0 else 'r', labels)\n",
    "\n",
    "    plt.scatter([f[0] for f in features],\n",
    "               [f[1] for f in features],\n",
    "               c=color_map)\n",
    "    plt.xlabel(features_list[1])\n",
    "    plt.ylabel(features_list[2])\n",
    "\n",
    "\n",
    "def get_n_max_val(features, features_list, n=1):\n",
    "    \"\"\"Return n maximum values for features.\n",
    "    The first feature in features_list must be \"poi\".\"\"\"\n",
    "    \n",
    "    max_val = []\n",
    "    for i in range(len(features_list[1:])):\n",
    "        values = [feat[i] for feat in features]\n",
    "        max_val.append((features_list[i+1], sorted(values)[-n:]))\n",
    "        \n",
    "    return max_val"
   ]
  },
  {
   "cell_type": "code",
   "execution_count": 10,
   "metadata": {
    "collapsed": false,
    "scrolled": false
   },
   "outputs": [
    {
     "name": "stdout",
     "output_type": "stream",
     "text": [
      "[('total_stock_value', [434509511.0]), ('total_payments', [309886585.0])]\n",
      "[('restricted_stock', [130322299.0]), ('exercised_stock_options', [311764000.0])]\n",
      "[('salary', [26704229.0]), ('expenses', [5235198.0])]\n"
     ]
    },
    {
     "data": {
      "image/png": "[encoded data removed]",
      "text/plain": [
       "<matplotlib.figure.Figure at 0x10d6e8990>"
      ]
     },
     "metadata": {},
     "output_type": "display_data"
    }
   ],
   "source": [
    "list_of_features_lists = [\n",
    "    ['poi','total_stock_value', 'total_payments'],\n",
    "    ['poi', 'restricted_stock', 'exercised_stock_options'],\n",
    "    ['poi', 'salary', 'expenses']\n",
    "]\n",
    "\n",
    "plt.figure(figsize=(6,7))\n",
    "\n",
    "i = 1  # subplot index\n",
    "for features_list in list_of_features_lists:\n",
    "    labels, features = load_features(features_list)\n",
    "    \n",
    "    plt.subplot(3,1,i)\n",
    "    plot_features(features, labels, features_list)\n",
    "    \n",
    "    i += 1\n",
    "\n",
    "    # Print max value for current features\n",
    "    print(get_n_max_val(features, features_list))\n",
    "\n",
    "plt.tight_layout()\n",
    "#plt.savefig('exploration_outliers.png', dpi=400)"
   ]
  },
  {
   "cell_type": "code",
   "execution_count": 11,
   "metadata": {
    "collapsed": false
   },
   "outputs": [
    {
     "name": "stdout",
     "output_type": "stream",
     "text": [
      "TOTAL\n"
     ]
    }
   ],
   "source": [
    "for person, values in data_dict.items():\n",
    "    if values['salary'] == 26704229.0:\n",
    "        print person"
   ]
  },
  {
   "cell_type": "code",
   "execution_count": 12,
   "metadata": {
    "collapsed": false
   },
   "outputs": [
    {
     "data": {
      "text/plain": [
       "['ALLEN PHILLIP K',\n",
       " 'BADUM JAMES P',\n",
       " 'BANNANTINE JAMES M',\n",
       " 'BAXTER JOHN C',\n",
       " 'BAY FRANKLIN R',\n",
       " 'BAZELIDES PHILIP J',\n",
       " 'BECK SALLY W',\n",
       " 'BELDEN TIMOTHY N',\n",
       " 'BELFER ROBERT',\n",
       " 'BERBERIAN DAVID',\n",
       " 'BERGSIEKER RICHARD P',\n",
       " 'BHATNAGAR SANJAY',\n",
       " 'BIBI PHILIPPE A',\n",
       " 'BLACHMAN JEREMY M',\n",
       " 'BLAKE JR. NORMAN P',\n",
       " 'BOWEN JR RAYMOND M',\n",
       " 'BROWN MICHAEL',\n",
       " 'BUCHANAN HAROLD G',\n",
       " 'BUTTS ROBERT H',\n",
       " 'BUY RICHARD B',\n",
       " 'CALGER CHRISTOPHER F',\n",
       " 'CARTER REBECCA C',\n",
       " 'CAUSEY RICHARD A',\n",
       " 'CHAN RONNIE',\n",
       " 'CHRISTODOULOU DIOMEDES',\n",
       " 'CLINE KENNETH W',\n",
       " 'COLWELL WESLEY',\n",
       " 'CORDES WILLIAM R',\n",
       " 'COX DAVID',\n",
       " 'CUMBERLAND MICHAEL S',\n",
       " 'DEFFNER JOSEPH M',\n",
       " 'DELAINEY DAVID W',\n",
       " 'DERRICK JR. JAMES V',\n",
       " 'DETMERING TIMOTHY J',\n",
       " 'DIETRICH JANET R',\n",
       " 'DIMICHELE RICHARD G',\n",
       " 'DODSON KEITH',\n",
       " 'DONAHUE JR JEFFREY M',\n",
       " 'DUNCAN JOHN H',\n",
       " 'DURAN WILLIAM D',\n",
       " 'ECHOLS JOHN B',\n",
       " 'ELLIOTT STEVEN',\n",
       " 'FALLON JAMES B',\n",
       " 'FASTOW ANDREW S',\n",
       " 'FITZGERALD JAY L',\n",
       " 'FOWLER PEGGY',\n",
       " 'FOY JOE',\n",
       " 'FREVERT MARK A',\n",
       " 'FUGH JOHN L',\n",
       " 'GAHN ROBERT S',\n",
       " 'GARLAND C KEVIN',\n",
       " 'GATHMANN WILLIAM D',\n",
       " 'GIBBS DANA R',\n",
       " 'GILLIS JOHN',\n",
       " 'GLISAN JR BEN F',\n",
       " 'GOLD JOSEPH',\n",
       " 'GRAMM WENDY L',\n",
       " 'GRAY RODNEY',\n",
       " 'HAEDICKE MARK E',\n",
       " 'HANNON KEVIN P',\n",
       " 'HAUG DAVID L',\n",
       " 'HAYES ROBERT E',\n",
       " 'HAYSLETT RODERICK J',\n",
       " 'HERMANN ROBERT J',\n",
       " 'HICKERSON GARY J',\n",
       " 'HIRKO JOSEPH',\n",
       " 'HORTON STANLEY C',\n",
       " 'HUGHES JAMES A',\n",
       " 'HUMPHREY GENE E',\n",
       " 'IZZO LAWRENCE L',\n",
       " 'JACKSON CHARLENE R',\n",
       " 'JAEDICKE ROBERT',\n",
       " 'KAMINSKI WINCENTY J',\n",
       " 'KEAN STEVEN J',\n",
       " 'KISHKILL JOSEPH G',\n",
       " 'KITCHEN LOUISE',\n",
       " 'KOENIG MARK E',\n",
       " 'KOPPER MICHAEL J',\n",
       " 'LAVORATO JOHN J',\n",
       " 'LAY KENNETH L',\n",
       " 'LEFF DANIEL P',\n",
       " 'LEMAISTRE CHARLES',\n",
       " 'LEWIS RICHARD',\n",
       " 'LINDHOLM TOD A',\n",
       " 'LOCKHART EUGENE E',\n",
       " 'LOWRY CHARLES P',\n",
       " 'MARTIN AMANDA K',\n",
       " 'MCCARTY DANNY J',\n",
       " 'MCCLELLAN GEORGE',\n",
       " 'MCCONNELL MICHAEL S',\n",
       " 'MCDONALD REBECCA',\n",
       " 'MCMAHON JEFFREY',\n",
       " 'MENDELSOHN JOHN',\n",
       " 'METTS MARK',\n",
       " 'MEYER JEROME J',\n",
       " 'MEYER ROCKFORD G',\n",
       " 'MORAN MICHAEL P',\n",
       " 'MORDAUNT KRISTINA M',\n",
       " 'MULLER MARK S',\n",
       " 'MURRAY JULIA H',\n",
       " 'NOLES JAMES L',\n",
       " 'OLSON CINDY K',\n",
       " 'OVERDYKE JR JERE C',\n",
       " 'PAI LOU L',\n",
       " 'PEREIRA PAULO V. FERRAZ',\n",
       " 'PICKERING MARK R',\n",
       " 'PIPER GREGORY F',\n",
       " 'PIRO JIM',\n",
       " 'POWERS WILLIAM',\n",
       " 'PRENTICE JAMES',\n",
       " 'REDMOND BRIAN L',\n",
       " 'REYNOLDS LAWRENCE',\n",
       " 'RICE KENNETH D',\n",
       " 'RIEKER PAULA H',\n",
       " 'SAVAGE FRANK',\n",
       " 'SCRIMSHAW MATTHEW',\n",
       " 'SHANKMAN JEFFREY A',\n",
       " 'SHAPIRO RICHARD S',\n",
       " 'SHARP VICTORIA T',\n",
       " 'SHELBY REX',\n",
       " 'SHERRICK JEFFREY B',\n",
       " 'SHERRIFF JOHN R',\n",
       " 'SKILLING JEFFREY K',\n",
       " 'STABLER FRANK',\n",
       " 'SULLIVAN-SHAKLOVITZ COLLEEN',\n",
       " 'SUNDE MARTIN',\n",
       " 'TAYLOR MITCHELL S',\n",
       " 'THE TRAVEL AGENCY IN THE PARK',\n",
       " 'THORN TERENCE H',\n",
       " 'TILNEY ELIZABETH A',\n",
       " 'TOTAL',\n",
       " 'UMANOFF ADAM S',\n",
       " 'URQUHART JOHN A',\n",
       " 'WAKEHAM JOHN',\n",
       " 'WALLS JR ROBERT H',\n",
       " 'WALTERS GARETH W',\n",
       " 'WASAFF GEORGE',\n",
       " 'WESTFAHL RICHARD K',\n",
       " 'WHALEY DAVID A',\n",
       " 'WHALLEY LAWRENCE G',\n",
       " 'WHITE JR THOMAS E',\n",
       " 'WINOKUR JR. HERBERT S',\n",
       " 'WODRASKA JOHN',\n",
       " 'WROBEL BRUCE',\n",
       " 'YEAGER F SCOTT',\n",
       " 'YEAP SOON']"
      ]
     },
     "execution_count": 12,
     "metadata": {},
     "output_type": "execute_result"
    }
   ],
   "source": [
    "sorted(data_dict.keys())"
   ]
  },
  {
   "cell_type": "code",
   "execution_count": 13,
   "metadata": {
    "collapsed": false,
    "scrolled": false
   },
   "outputs": [
    {
     "data": {
      "text/plain": [
       "{'bonus': 97343619,\n",
       " 'deferral_payments': 32083396,\n",
       " 'deferred_income': -27992891,\n",
       " 'director_fees': 1398517,\n",
       " 'email_address': 'NaN',\n",
       " 'exercised_stock_options': 311764000,\n",
       " 'expenses': 5235198,\n",
       " 'from_messages': 'NaN',\n",
       " 'from_poi_to_this_person': 'NaN',\n",
       " 'from_this_person_to_poi': 'NaN',\n",
       " 'loan_advances': 83925000,\n",
       " 'long_term_incentive': 48521928,\n",
       " 'other': 42667589,\n",
       " 'poi': False,\n",
       " 'restricted_stock': 130322299,\n",
       " 'restricted_stock_deferred': -7576788,\n",
       " 'salary': 26704229,\n",
       " 'shared_receipt_with_poi': 'NaN',\n",
       " 'to_messages': 'NaN',\n",
       " 'total_payments': 309886585,\n",
       " 'total_stock_value': 434509511}"
      ]
     },
     "execution_count": 13,
     "metadata": {},
     "output_type": "execute_result"
    }
   ],
   "source": [
    "# Remove TOTAL from our data set\n",
    "data_dict.pop('TOTAL')"
   ]
  },
  {
   "cell_type": "markdown",
   "metadata": {},
   "source": [
    "## Trying out RFE; didn't quite work"
   ]
  },
  {
   "cell_type": "code",
   "execution_count": null,
   "metadata": {
    "collapsed": true
   },
   "outputs": [],
   "source": [
    "# Let's try some RFE\n",
    "from sklearn.feature_selection import RFE, RFECV\n",
    "from sklearn.svm import SVC, LinearSVC"
   ]
  },
  {
   "cell_type": "code",
   "execution_count": null,
   "metadata": {
    "collapsed": false
   },
   "outputs": [],
   "source": [
    "clf = SVC(kernel='linear')\n",
    "selector = RFECV(clf)\n",
    "selector = selector.fit(features_train, labels_train)\n",
    "\n",
    "print(\"Num Features: %d\") % selector.n_features_\n",
    "print(\"Selected Features: %s\") % selector.support_\n",
    "print(\"Feature Ranking: %s\") % selector.ranking_\n",
    "\n",
    "selector.score(features_test, labels_test)"
   ]
  },
  {
   "cell_type": "markdown",
   "metadata": {},
   "source": [
    "## Trying out SelectPercentile + SelectKBest"
   ]
  },
  {
   "cell_type": "code",
   "execution_count": 4,
   "metadata": {
    "collapsed": true
   },
   "outputs": [],
   "source": [
    "from sklearn.feature_selection import SelectPercentile, SelectKBest, f_classif\n",
    "from sklearn.metrics import precision_score, recall_score\n",
    "from sklearn.svm import SVC, LinearSVC"
   ]
  },
  {
   "cell_type": "code",
   "execution_count": null,
   "metadata": {
    "collapsed": false,
    "scrolled": true
   },
   "outputs": [],
   "source": [
    "# selector = SelectPercentile(f_classif, percentile=20)\n",
    "selector = SelectKBest(f_classif, k=3)\n",
    "selector.fit(features_train, labels_train)\n",
    "\n",
    "sorted(zip(selector.scores_, features_list[1:]), reverse=True)"
   ]
  },
  {
   "cell_type": "code",
   "execution_count": null,
   "metadata": {
    "collapsed": false,
    "scrolled": true
   },
   "outputs": [],
   "source": [
    "clf = GaussianNB()\n",
    "# clf_selected = SVC()\n",
    "clf.fit(features_train, labels_train)\n",
    "predictions = clf.predict(features_test)\n",
    "clf.score(features_test, labels_test)"
   ]
  },
  {
   "cell_type": "code",
   "execution_count": null,
   "metadata": {
    "collapsed": false
   },
   "outputs": [],
   "source": [
    "# Test for errors:\n",
    "print('Precision: '+str(precision_score(labels_test, predictions)))\n",
    "print('Recall: '+str(recall_score(labels_test, predictions)))"
   ]
  },
  {
   "cell_type": "code",
   "execution_count": null,
   "metadata": {
    "collapsed": false
   },
   "outputs": [],
   "source": [
    "clf_selected = GaussianNB()\n",
    "# clf_selected = SVC()\n",
    "\n",
    "transformed_features_train = selector.transform(features_train)\n",
    "transformed_features_test = selector.transform(features_test)\n",
    "\n",
    "clf_selected.fit(transformed_features_train, labels_train)\n",
    "pred_selected = clf_selected.predict(transformed_features_test)\n",
    "clf_selected.score(transformed_features_test, labels_test)"
   ]
  },
  {
   "cell_type": "code",
   "execution_count": null,
   "metadata": {
    "collapsed": false
   },
   "outputs": [],
   "source": [
    "# Test for errors:\n",
    "print('Precision: '+str(precision_score(labels_test, pred_selected)))\n",
    "print('Recall: '+str(recall_score(labels_test, pred_selected)))"
   ]
  },
  {
   "cell_type": "code",
   "execution_count": null,
   "metadata": {
    "collapsed": true
   },
   "outputs": [],
   "source": [
    "# Trying Decision Trees + AdaBoost\n",
    "from sklearn.tree import DecisionTreeClassifier\n",
    "from sklearn.ensemble import AdaBoostClassifier"
   ]
  },
  {
   "cell_type": "code",
   "execution_count": null,
   "metadata": {
    "collapsed": false
   },
   "outputs": [],
   "source": [
    "n_estimators = 50\n",
    "clf_selected = AdaBoostClassifier(\n",
    "    base_estimator=DecisionTreeClassifier(max_depth=6, min_samples_leaf=1),\n",
    "    n_estimators=n_estimators)\n",
    "\n",
    "transformed_features_train = selector.transform(features_train)\n",
    "transformed_features_test = selector.transform(features_test)\n",
    "\n",
    "clf_selected.fit(transformed_features_train, labels_train)\n",
    "pred_selected = clf_selected.predict(transformed_features_test)\n",
    "clf_selected.score(transformed_features_test, labels_test)\n",
    "\n",
    "# clf_selected.feature_importances_"
   ]
  },
  {
   "cell_type": "code",
   "execution_count": null,
   "metadata": {
    "collapsed": false,
    "scrolled": true
   },
   "outputs": [],
   "source": [
    "# Test for errors:\n",
    "print('Precision: '+str(precision_score(labels_test, pred_selected)))\n",
    "print('Recall: '+str(recall_score(labels_test, pred_selected)))"
   ]
  },
  {
   "cell_type": "code",
   "execution_count": null,
   "metadata": {
    "collapsed": false,
    "scrolled": true
   },
   "outputs": [],
   "source": [
    "n_estimators = 50\n",
    "clf = AdaBoostClassifier(\n",
    "    base_estimator=DecisionTreeClassifier(max_depth=6, min_samples_leaf=1),\n",
    "    n_estimators=n_estimators)\n",
    "\n",
    "clf.fit(features_train, labels_train)\n",
    "predictions = clf.predict(features_test)\n",
    "clf.score(features_test, labels_test)"
   ]
  },
  {
   "cell_type": "code",
   "execution_count": null,
   "metadata": {
    "collapsed": false
   },
   "outputs": [],
   "source": [
    "# Test for errors:\n",
    "print('Precision: '+str(precision_score(labels_test, predictions)))\n",
    "print('Recall: '+str(recall_score(labels_test, predictions)))"
   ]
  },
  {
   "cell_type": "code",
   "execution_count": null,
   "metadata": {
    "collapsed": false
   },
   "outputs": [],
   "source": [
    "# Let me try SVMs\n",
    "\n",
    "# Feature Scaling\n",
    "from sklearn.preprocessing import MinMaxScaler\n",
    "\n",
    "scaler = MinMaxScaler()\n",
    "scaler.fit(features_train)\n",
    "\n",
    "clf = SVC()\n",
    "clf.fit(scaler.transform(features_train), labels_train)\n",
    "\n",
    "predictions = clf.predict(scaler.transform(features_train))\n",
    "\n",
    "clf.score(scaler.transform(features_test), labels_test)"
   ]
  },
  {
   "cell_type": "code",
   "execution_count": null,
   "metadata": {
    "collapsed": false,
    "scrolled": true
   },
   "outputs": [],
   "source": [
    "# Test for errors:\n",
    "print('Precision: '+str(precision_score(labels_test, predictions)))\n",
    "print('Recall: '+str(recall_score(labels_test, predictions)))"
   ]
  },
  {
   "cell_type": "code",
   "execution_count": null,
   "metadata": {
    "collapsed": false,
    "scrolled": true
   },
   "outputs": [],
   "source": [
    "clf_selected = SVC()\n",
    "\n",
    "scaled_features_train = scaler.transform(features_train)\n",
    "scaled_features_test = scaler.transform(features_test)\n",
    "\n",
    "clf_selected.fit(selector.transform(scaled_features_train), labels_train)\n",
    "predictions = clf_selected.predict(selector.transform(scaled_features_test))\n",
    "clf_selected.score(selector.transform(scaled_features_test), labels_test)"
   ]
  },
  {
   "cell_type": "code",
   "execution_count": null,
   "metadata": {
    "collapsed": false,
    "scrolled": true
   },
   "outputs": [],
   "source": [
    "# Test for errors:\n",
    "print('Precision: '+str(precision_score(labels_test, predictions)))\n",
    "print('Recall: '+str(recall_score(labels_test, predictions)))"
   ]
  },
  {
   "cell_type": "code",
   "execution_count": null,
   "metadata": {
    "collapsed": false
   },
   "outputs": [],
   "source": [
    "# clf_selected = SVC(C=0.1)\n",
    "# clf_selected = SVC(C=1)\n",
    "# clf_selected = SVC(C=10)\n",
    "# clf_selected = SVC(C=100)\n",
    "\n",
    "clf_selected = SVC(gamma=0.01)\n",
    "# clf_selected = SVC(gamma=1)\n",
    "# clf_selected = SVC(gamma=10)\n",
    "# clf_selected = SVC(gamma=100)\n",
    "\n",
    "scaled_features_train = scaler.transform(features_train)\n",
    "scaled_features_test = scaler.transform(features_test)\n",
    "\n",
    "clf_selected.fit(selector.transform(scaled_features_train), labels_train)\n",
    "predictions = clf_selected.predict(selector.transform(scaled_features_test))\n",
    "clf_selected.score(selector.transform(scaled_features_test), labels_test)"
   ]
  },
  {
   "cell_type": "markdown",
   "metadata": {},
   "source": [
    "### Trying GridSearchCV"
   ]
  },
  {
   "cell_type": "code",
   "execution_count": null,
   "metadata": {
    "collapsed": true
   },
   "outputs": [],
   "source": [
    "from sklearn.grid_search import GridSearchCV"
   ]
  },
  {
   "cell_type": "code",
   "execution_count": null,
   "metadata": {
    "collapsed": false
   },
   "outputs": [],
   "source": [
    "parameters = {\n",
    "    'kernel':('linear', 'rbf'),\n",
    "    'C':[1, 10, 100]\n",
    "}\n",
    "\n",
    "svc = SVC()\n",
    "clf_selected = GridSearchCV(svc, parameters, scoring='f1')\n",
    "\n",
    "scaled_features_train = scaler.transform(features_train)\n",
    "scaled_features_test = scaler.transform(features_test)\n",
    "\n",
    "clf_selected.fit(selector.transform(scaled_features_train), labels_train)\n",
    "predictions = clf_selected.predict(selector.transform(scaled_features_test))\n",
    "clf_selected.score(selector.transform(scaled_features_test), labels_test)\n",
    "\n",
    "clf_selected.grid_scores_"
   ]
  },
  {
   "cell_type": "markdown",
   "metadata": {
    "collapsed": true
   },
   "source": [
    "### Trying out StratifiedShuffleSplit"
   ]
  },
  {
   "cell_type": "code",
   "execution_count": 5,
   "metadata": {
    "collapsed": true
   },
   "outputs": [],
   "source": [
    "from sklearn.cross_validation import StratifiedShuffleSplit"
   ]
  },
  {
   "cell_type": "code",
   "execution_count": 9,
   "metadata": {
    "collapsed": true
   },
   "outputs": [],
   "source": [
    "from sklearn.tree import DecisionTreeClassifier"
   ]
  },
  {
   "cell_type": "code",
   "execution_count": 13,
   "metadata": {
    "collapsed": false
   },
   "outputs": [
    {
     "name": "stdout",
     "output_type": "stream",
     "text": [
      "Features: [(33.12640430132226, 'exercised_stock_options'), (31.103971689500749, 'total_stock_value'), (14.620549944559839, 'bonus')]\n",
      "Iteration: 0\n",
      "Precision: 0.0\n",
      "Recall: 0.0\n",
      "\n",
      "Features: [(24.646359132559969, 'bonus'), (16.36536373422858, 'salary'), (12.911242051034087, 'from_poi_to_this_person')]\n",
      "Iteration: 1\n",
      "Precision: 0.4\n",
      "Recall: 0.333333333333\n",
      "\n",
      "Features: [(13.572295828146965, 'total_stock_value'), (12.544965331095792, 'exercised_stock_options'), (8.7623671063312347, 'restricted_stock')]\n",
      "Iteration: 2\n",
      "Precision: 0.666666666667\n",
      "Recall: 0.333333333333\n",
      "\n",
      "Features: [(24.748238683098151, 'bonus'), (14.305980058702911, 'salary'), (13.688824982167588, 'exercised_stock_options')]\n",
      "Iteration: 3\n",
      "Precision: 0.375\n",
      "Recall: 0.5\n",
      "\n",
      "Features: [(37.293836432657912, 'total_stock_value'), (36.004705633924253, 'exercised_stock_options'), (23.816083722636385, 'salary')]\n",
      "Iteration: 4\n",
      "Precision: 0.2\n",
      "Recall: 0.166666666667\n",
      "\n",
      "Features: [(6.112901980205355, 'exercised_stock_options'), (5.6255269533234911, 'total_stock_value'), (3.9602980415670372, 'bonus')]\n",
      "Iteration: 5\n",
      "Precision: 1.0\n",
      "Recall: 0.5\n",
      "\n",
      "Features: [(12.124106805216099, 'bonus'), (10.199692732817164, 'shared_receipt_with_poi'), (9.4956148652425139, 'exercised_stock_options')]\n",
      "Iteration: 6\n",
      "Precision: 0.5\n",
      "Recall: 0.333333333333\n",
      "\n",
      "Features: [(17.348022011921909, 'salary'), (12.316202678343272, 'bonus'), (9.57593949635074, 'total_stock_value')]\n",
      "Iteration: 7\n",
      "Precision: 0.75\n",
      "Recall: 0.5\n",
      "\n",
      "Features: [(22.543872274513504, 'total_stock_value'), (20.876255740543122, 'exercised_stock_options'), (15.506982351767254, 'restricted_stock')]\n",
      "Iteration: 8\n",
      "Precision: 0.5\n",
      "Recall: 0.166666666667\n",
      "\n",
      "Features: [(25.637485100868833, 'exercised_stock_options'), (25.439424713985542, 'total_stock_value'), (20.859030950939864, 'salary')]\n",
      "Iteration: 9\n",
      "Precision: 0.5\n",
      "Recall: 0.166666666667\n",
      "\n",
      "Average precison: 0.489166666667\n",
      "Average recall: 0.3\n"
     ]
    }
   ],
   "source": [
    "iter_num = 0\n",
    "\n",
    "precision_list = []\n",
    "recall_list = []\n",
    "\n",
    "for train_index, test_index in sss:\n",
    "    features_train = []\n",
    "    features_test  = []\n",
    "    labels_train   = []\n",
    "    labels_test    = []\n",
    "    \n",
    "    for ii in train_index:\n",
    "        features_train.append( features[ii] )\n",
    "        labels_train.append( labels[ii] )\n",
    "    for jj in test_index:\n",
    "        features_test.append( features[jj] )\n",
    "        labels_test.append( labels[jj] )\n",
    "        \n",
    "    # Select features\n",
    "    selector = SelectKBest(f_classif, k=3)\n",
    "    selector.fit(features_train, labels_train)\n",
    "    print('Features: '+str(sorted(zip(selector.scores_, features_list[1:]), reverse=True)[:3]))\n",
    "    \n",
    "    # Classifier\n",
    "#     clf_selected = DecisionTreeClassifier(random_state=42)\n",
    "    clf_selected = GaussianNB()\n",
    "\n",
    "    selected_features_train = selector.transform(features_train)\n",
    "    selected_features_test = selector.transform(features_test)\n",
    "\n",
    "    clf_selected.fit(selected_features_train, labels_train)\n",
    "    pred_selected = clf_selected.predict(selected_features_test)\n",
    "    \n",
    "    # Test for errors:\n",
    "    precision = precision_score(labels_test, pred_selected)\n",
    "    recall = recall_score(labels_test, pred_selected)\n",
    "    precision_list.append(precision)\n",
    "    recall_list.append(recall)\n",
    "    \n",
    "    print('Iteration: '+str(iter_num))\n",
    "    print('Precision: '+str(precision))\n",
    "    print('Recall: '+str(recall))\n",
    "    print\n",
    "    \n",
    "    iter_num += 1\n",
    "\n",
    "print('Average precison: '+str(np.mean(precision_list)))\n",
    "print('Average recall: '+str(np.mean(recall_list)))"
   ]
  },
  {
   "cell_type": "code",
   "execution_count": 30,
   "metadata": {
    "collapsed": false
   },
   "outputs": [
    {
     "name": "stdout",
     "output_type": "stream",
     "text": [
      "Features: [(19.851480459108362, 'total_stock_value'), (18.783178629404901, 'salary'), (18.513351955185772, 'exercised_stock_options')]\n",
      "Iteration: 0\n",
      "Precision: 0.5\n",
      "Recall: 0.166666666667\n",
      "\n",
      "Features: [(33.993753207587233, 'exercised_stock_options'), (33.388385769918351, 'total_stock_value'), (16.296275469892503, 'restricted_stock')]\n",
      "Iteration: 1\n",
      "Precision: 0.0\n",
      "Recall: 0.0\n",
      "\n",
      "Features: [(48.533256754874344, 'bonus'), (26.577439567129737, 'salary'), (22.806047189778347, 'from_poi_to_this_person')]\n",
      "Iteration: 2\n",
      "Precision: 0.142857142857\n",
      "Recall: 0.166666666667\n",
      "\n",
      "Features: [(15.400806320576233, 'total_stock_value'), (14.319789747511768, 'exercised_stock_options'), (8.6488879472668643, 'salary')]\n",
      "Iteration: 3\n",
      "Precision: 0.5\n",
      "Recall: 0.333333333333\n",
      "\n",
      "Features: [(36.31455668106581, 'exercised_stock_options'), (32.300425900576052, 'total_stock_value'), (16.03670907755502, 'bonus')]\n",
      "Iteration: 4\n",
      "Precision: 1.0\n",
      "Recall: 0.166666666667\n",
      "\n",
      "Features: [(14.464154965085038, 'bonus'), (10.217587422217761, 'salary'), (9.4641917121144328, 'shared_receipt_with_poi')]\n",
      "Iteration: 5\n",
      "Precision: 0.5\n",
      "Recall: 0.166666666667\n",
      "\n",
      "Features: [(28.013480929471189, 'salary'), (26.266496186144135, 'bonus'), (18.800664328778911, 'total_stock_value')]\n",
      "Iteration: 6\n",
      "Precision: 0.333333333333\n",
      "Recall: 0.166666666667\n",
      "\n",
      "Features: [(25.838437753970137, 'total_stock_value'), (24.277539153015546, 'exercised_stock_options'), (12.435181977551146, 'salary')]\n",
      "Iteration: 7\n",
      "Precision: 0.25\n",
      "Recall: 0.166666666667\n",
      "\n",
      "Features: [(8.9279246399533534, 'shared_receipt_with_poi'), (7.9276480462612495, 'bonus'), (5.8681932670331962, 'salary')]\n",
      "Iteration: 8\n",
      "Precision: 0.0\n",
      "Recall: 0.0\n",
      "\n",
      "Features: [(20.745103616929502, 'bonus'), (19.18919385706981, 'salary'), (14.589081984588928, 'exercised_stock_options')]\n",
      "Iteration: 9\n",
      "Precision: 0.5\n",
      "Recall: 0.333333333333\n",
      "\n",
      "classifier: GaussianNB()\n",
      "Average precison: 0.372619047619\n",
      "Average recall: 0.166666666667\n",
      "\n",
      "Features: [(19.851480459108362, 'total_stock_value'), (18.783178629404901, 'salary'), (18.513351955185772, 'exercised_stock_options')]\n",
      "Iteration: 0\n",
      "Precision: 0.333333333333\n",
      "Recall: 0.166666666667\n",
      "\n",
      "Features: [(33.993753207587233, 'exercised_stock_options'), (33.388385769918351, 'total_stock_value'), (16.296275469892503, 'restricted_stock')]\n",
      "Iteration: 1\n",
      "Precision: 0.0\n",
      "Recall: 0.0\n",
      "\n",
      "Features: [(48.533256754874344, 'bonus'), (26.577439567129737, 'salary'), (22.806047189778347, 'from_poi_to_this_person')]\n",
      "Iteration: 2\n",
      "Precision: 0.0\n",
      "Recall: 0.0\n",
      "\n",
      "Features: [(15.400806320576233, 'total_stock_value'), (14.319789747511768, 'exercised_stock_options'), (8.6488879472668643, 'salary')]\n",
      "Iteration: 3\n",
      "Precision: 0.0\n",
      "Recall: 0.0\n",
      "\n",
      "Features: [(36.31455668106581, 'exercised_stock_options'), (32.300425900576052, 'total_stock_value'), (16.03670907755502, 'bonus')]\n",
      "Iteration: 4\n",
      "Precision: 0.333333333333\n",
      "Recall: 0.166666666667\n",
      "\n",
      "Features: [(14.464154965085038, 'bonus'), (10.217587422217761, 'salary'), (9.4641917121144328, 'shared_receipt_with_poi')]\n",
      "Iteration: 5\n",
      "Precision: 0.333333333333\n",
      "Recall: 0.166666666667\n",
      "\n",
      "Features: [(28.013480929471189, 'salary'), (26.266496186144135, 'bonus'), (18.800664328778911, 'total_stock_value')]\n",
      "Iteration: 6\n",
      "Precision: 0.125\n",
      "Recall: 0.166666666667\n",
      "\n",
      "Features: [(25.838437753970137, 'total_stock_value'), (24.277539153015546, 'exercised_stock_options'), (12.435181977551146, 'salary')]\n",
      "Iteration: 7\n",
      "Precision: 0.2\n",
      "Recall: 0.166666666667\n",
      "\n",
      "Features: [(8.9279246399533534, 'shared_receipt_with_poi'), (7.9276480462612495, 'bonus'), (5.8681932670331962, 'salary')]\n",
      "Iteration: 8\n",
      "Precision: 0.25\n",
      "Recall: 0.166666666667\n",
      "\n",
      "Features: [(20.745103616929502, 'bonus'), (19.18919385706981, 'salary'), (14.589081984588928, 'exercised_stock_options')]\n",
      "Iteration: 9\n",
      "Precision: 0.5\n",
      "Recall: 0.5\n",
      "\n",
      "classifier: DecisionTreeClassifier(class_weight=None, criterion='gini', max_depth=None,\n",
      "            max_features=None, max_leaf_nodes=None, min_samples_leaf=1,\n",
      "            min_samples_split=2, min_weight_fraction_leaf=0.0,\n",
      "            presort=False, random_state=42, splitter='best')\n",
      "Average precison: 0.2075\n",
      "Average recall: 0.15\n",
      "\n"
     ]
    }
   ],
   "source": [
    "#!/usr/bin/python\n",
    "\n",
    "import sys\n",
    "import pickle\n",
    "sys.path.append(\"./tools/\")\n",
    "\n",
    "from feature_format import featureFormat, targetFeatureSplit\n",
    "from tester import dump_classifier_and_data\n",
    "\n",
    "from sklearn.cross_validation import StratifiedShuffleSplit\n",
    "from sklearn.naive_bayes import GaussianNB\n",
    "from sklearn.tree import DecisionTreeClassifier\n",
    "\n",
    "# Initializing dataset for local testing\n",
    "features_list = ['poi',\n",
    "                 'total_stock_value',\n",
    "                 'total_payments',\n",
    "                 'restricted_stock',\n",
    "                 'exercised_stock_options',\n",
    "                 'salary',\n",
    "                 'expenses',\n",
    "                 'other',\n",
    "                 'to_messages',\n",
    "                 'shared_receipt_with_poi',\n",
    "                 'from_messages',\n",
    "                 'from_this_person_to_poi',\n",
    "                 'from_poi_to_this_person',\n",
    "                 'bonus']\n",
    "\n",
    "### Load the dictionary containing the dataset\n",
    "with open(\"final_project_dataset.pkl\", \"r\") as data_file:\n",
    "    data_dict = pickle.load(data_file)\n",
    "\n",
    "data_dict.pop('TOTAL')\n",
    "\n",
    "my_dataset = data_dict\n",
    "\n",
    "### Extract features and labels from dataset for local testing\n",
    "data = featureFormat(my_dataset, features_list, sort_keys = True)\n",
    "labels, features = targetFeatureSplit(data)\n",
    "\n",
    "\n",
    "def test_classifier(clf, data_sets):\n",
    "    iter_num = 0\n",
    "\n",
    "    precision_list = []\n",
    "    recall_list = []\n",
    "\n",
    "\n",
    "    for data_set in data_sets:\n",
    "        features_train, labels_train, features_test, labels_test = data_set\n",
    "\n",
    "        # Select features\n",
    "        selector = SelectKBest(f_classif, k=3)\n",
    "        selector.fit(features_train, labels_train)\n",
    "        print('Features: '+str(sorted(zip(selector.scores_, features_list[1:]), reverse=True)[:3]))\n",
    "\n",
    "        selected_features_train = selector.transform(features_train)\n",
    "        selected_features_test = selector.transform(features_test)\n",
    "\n",
    "        # Fit classifier and make predictions\n",
    "        clf.fit(selected_features_train, labels_train)\n",
    "        pred_selected = clf.predict(selected_features_test)\n",
    "\n",
    "        # Test for errors:\n",
    "        precision = precision_score(labels_test, pred_selected)\n",
    "        recall = recall_score(labels_test, pred_selected)\n",
    "        precision_list.append(precision)\n",
    "        recall_list.append(recall)\n",
    "\n",
    "        print('Iteration: '+str(iter_num))\n",
    "        print('Precision: '+str(precision))\n",
    "        print('Recall: '+str(recall))\n",
    "        print\n",
    "\n",
    "        iter_num += 1\n",
    "\n",
    "    print('classifier: '+str(clf))\n",
    "    print('Average precison: '+str(np.mean(precision_list)))\n",
    "    print('Average recall: '+str(np.mean(recall_list)))\n",
    "    print\n",
    "\n",
    "\n",
    "def split_data_sss(features, labels):\n",
    "    '''Uses StratifiedShuffleSplit to create train and test data.\n",
    "    Returns a list of tuples.'''\n",
    "    sss = StratifiedShuffleSplit(y=labels, test_size=0.3, n_iter=10)\n",
    "\n",
    "    train_test_sets = []\n",
    "\n",
    "    for train_index, test_index in sss:\n",
    "        features_train = []\n",
    "        features_test  = []\n",
    "        labels_train   = []\n",
    "        labels_test    = []\n",
    "\n",
    "        for i in train_index:\n",
    "            features_train.append(features[i])\n",
    "            labels_train.append(labels[i])\n",
    "        for j in test_index:\n",
    "            features_test.append(features[j])\n",
    "            labels_test.append(labels[j])\n",
    "\n",
    "        train_test_sets.append((features_train, labels_train, features_test, labels_test))\n",
    "\n",
    "    return train_test_sets\n",
    "\n",
    "\n",
    "# Test our classifiers\n",
    "classifiers = [\n",
    "    GaussianNB(),\n",
    "    DecisionTreeClassifier(random_state=42)\n",
    "]\n",
    "\n",
    "# Split data into train/test data sets\n",
    "data_sets = split_data_sss(features, labels)\n",
    "\n",
    "for clf in classifiers:\n",
    "    test_classifier(clf, data_sets)\n"
   ]
  },
  {
   "cell_type": "code",
   "execution_count": 32,
   "metadata": {
    "collapsed": false
   },
   "outputs": [
    {
     "data": {
      "text/plain": [
       "'exercised_stock_options'"
      ]
     },
     "execution_count": 32,
     "metadata": {},
     "output_type": "execute_result"
    }
   ],
   "source": [
    "tup = (23.18661338478892, 'exercised_stock_options')\n",
    "tup[1]"
   ]
  },
  {
   "cell_type": "markdown",
   "metadata": {
    "collapsed": true
   },
   "source": [
    "## New feature"
   ]
  },
  {
   "cell_type": "code",
   "execution_count": 1,
   "metadata": {
    "collapsed": true
   },
   "outputs": [],
   "source": [
    "def create_proportion_from_poi(data_point):\n",
    "    '''Creates a new feature: The proportion of all emails received by this person\n",
    "    that were sent from a POI.'''\n",
    "\n",
    "    FEATURE_NAME = 'proportion_from_poi'\n",
    "\n",
    "    data_point[FEATURE_NAME] = float(data_point['from_poi_to_this_person'])/float(data_point['to_messages'])\n",
    "\n",
    "\n",
    "def update_data_dict_proportion_from_poi(data_dict):\n",
    "    '''Updates data_dict with new feature.'''\n",
    "\n",
    "    for data in data_dict.values():\n",
    "        create_proportion_from_poi(data)"
   ]
  },
  {
   "cell_type": "code",
   "execution_count": 4,
   "metadata": {
    "collapsed": true
   },
   "outputs": [],
   "source": [
    "update_data_dict_proportion_from_poi(data_dict)"
   ]
  },
  {
   "cell_type": "code",
   "execution_count": 9,
   "metadata": {
    "collapsed": false,
    "scrolled": false
   },
   "outputs": [
    {
     "data": {
      "text/plain": [
       "[('BAXTER JOHN C', nan),\n",
       " ('ELLIOTT STEVEN', nan),\n",
       " ('MORDAUNT KRISTINA M', nan),\n",
       " ('LOWRY CHARLES P', nan),\n",
       " ('COLWELL WESLEY', 0.13651877133105803),\n",
       " ('UMANOFF ADAM S', 0.10810810810810811),\n",
       " ('JACKSON CHARLENE R', 0.09689922480620156),\n",
       " ('MULLER MARK S', 0.08823529411764706),\n",
       " ('HUMPHREY GENE E', 0.078125),\n",
       " ('PIPER GREGORY F', 0.049273021001615507),\n",
       " ('METTS MARK', 0.04708798017348203),\n",
       " ('HANNON KEVIN P', 0.03062200956937799),\n",
       " ('SUNDE MARTIN', 0.013978088401964487),\n",
       " ('BLACHMAN JEREMY M', 0.010101010101010102),\n",
       " ('GIBBS DANA R', 0.0),\n",
       " ('WESTFAHL RICHARD K', nan),\n",
       " ('WALTERS GARETH W', nan),\n",
       " ('KITCHEN LOUISE', 0.030222757375075255),\n",
       " ('WALLS JR ROBERT H', 0.02533532041728763),\n",
       " ('MCMAHON JEFFREY', 0.024628450106157114),\n",
       " ('HORTON STANLEY C', 0.01872340425531915),\n",
       " ('CORDES WILLIAM R', 0.013089005235602094),\n",
       " ('MEYER ROCKFORD G', 0.0),\n",
       " ('CHAN RONNIE', nan),\n",
       " ('BELFER ROBERT', nan),\n",
       " ('SHANKMAN JEFFREY A', 0.029183483390251473),\n",
       " ('WODRASKA JOHN', nan),\n",
       " ('URQUHART JOHN A', nan),\n",
       " ('RIEKER PAULA H', 0.02635542168674699),\n",
       " ('BIBI PHILIPPE A', 0.01431238332296204),\n",
       " ('WHALEY DAVID A', nan),\n",
       " ('BECK SALLY W', 0.01968557758031442),\n",
       " ('BERGSIEKER RICHARD P', 0.010443864229765013),\n",
       " ('HAUG DAVID L', 0.006980802792321117),\n",
       " ('ECHOLS JOHN B', nan),\n",
       " ('MENDELSOHN JOHN', nan),\n",
       " ('CLINE KENNETH W', nan),\n",
       " ('KOPPER MICHAEL J', nan),\n",
       " ('LAVORATO JOHN J', 0.07273729163796666),\n",
       " ('HAYES ROBERT E', 0.031746031746031744),\n",
       " ('HICKERSON GARY J', 0.030303030303030304),\n",
       " ('LEFF DANIEL P', 0.02374202693125443),\n",
       " ('MCCARTY DANNY J', 0.017445917655268667),\n",
       " ('LEWIS RICHARD', 0.01050420168067227),\n",
       " ('BERBERIAN DAVID', nan),\n",
       " ('DETMERING TIMOTHY J', nan),\n",
       " ('WAKEHAM JOHN', nan),\n",
       " ('GOLD JOSEPH', nan),\n",
       " ('BANNANTINE JAMES M', 0.06890459363957598),\n",
       " ('DUNCAN JOHN H', nan),\n",
       " ('LEMAISTRE CHARLES', nan),\n",
       " ('DEFFNER JOSEPH M', 0.16106442577030813),\n",
       " ('SHELBY REX', 0.057777777777777775),\n",
       " ('SHERRIFF JOHN R', 0.008785691873235017),\n",
       " ('SHAPIRO RICHARD S', 0.0048848108786058485),\n",
       " ('POWERS WILLIAM', 0.0),\n",
       " ('KISHKILL JOSEPH G', nan),\n",
       " ('WHALLEY LAWRENCE G', 0.03090214321315833),\n",
       " ('MCCONNELL MICHAEL S', 0.02763592670471613),\n",
       " ('SULLIVAN-SHAKLOVITZ COLLEEN', nan),\n",
       " ('WROBEL BRUCE', nan),\n",
       " ('LINDHOLM TOD A', nan),\n",
       " ('MEYER JEROME J', nan),\n",
       " ('LAY KENNETH L', 0.028785396676807865),\n",
       " ('DELAINEY DAVID W', 0.02133850630455868),\n",
       " ('BUTTS ROBERT H', nan),\n",
       " ('MCDONALD REBECCA', 0.06040268456375839),\n",
       " ('OLSON CINDY K', 0.016891891891891893),\n",
       " ('PIRO JIM', 0.0),\n",
       " ('CUMBERLAND MICHAEL S', nan),\n",
       " ('GAHN ROBERT S', nan),\n",
       " ('HERMANN ROBERT J', nan),\n",
       " ('SCRIMSHAW MATTHEW', nan),\n",
       " ('GATHMANN WILLIAM D', nan),\n",
       " ('GILLIS JOHN', nan),\n",
       " ('REDMOND BRIAN L', 0.12208258527827648),\n",
       " ('BAZELIDES PHILIP J', nan),\n",
       " ('DURAN WILLIAM D', 0.1172566371681416),\n",
       " ('FASTOW ANDREW S', nan),\n",
       " ('CALGER CHRISTOPHER F', 0.07659738260200154),\n",
       " ('BOWEN JR RAYMOND M', 0.07534983853606028),\n",
       " ('RICE KENNETH D', 0.04640883977900553),\n",
       " ('HAEDICKE MARK E', 0.04489897730107259),\n",
       " ('MCCLELLAN GEORGE', 0.02981651376146789),\n",
       " ('KAMINSKI WINCENTY J', 0.008899500759713479),\n",
       " ('FITZGERALD JAY L', 0.0010683760683760685),\n",
       " ('MORAN MICHAEL P', 0.0),\n",
       " ('FOY JOE', 0.0),\n",
       " ('LOCKHART EUGENE E', nan),\n",
       " ('OVERDYKE JR JERE C', nan),\n",
       " ('PEREIRA PAULO V. FERRAZ', nan),\n",
       " ('STABLER FRANK', nan),\n",
       " ('SKILLING JEFFREY K', 0.0242624758753791),\n",
       " ('BLAKE JR. NORMAN P', nan),\n",
       " ('SHERRICK JEFFREY B', 0.0636215334420881),\n",
       " ('COX DAVID', 0.0),\n",
       " ('PRENTICE JAMES', nan),\n",
       " ('GRAY RODNEY', nan),\n",
       " ('THE TRAVEL AGENCY IN THE PARK', nan),\n",
       " ('NOLES JAMES L', nan),\n",
       " ('WASAFF GEORGE', 0.055),\n",
       " ('BELDEN TIMOTHY N', 0.028532098610937303),\n",
       " ('KEAN STEVEN J', 0.010976948408342482),\n",
       " ('PICKERING MARK R', 0.0077951002227171495),\n",
       " ('THORN TERENCE H', 0.0),\n",
       " ('FOWLER PEGGY', 0.0),\n",
       " ('WHITE JR THOMAS E', nan),\n",
       " ('CHRISTODOULOU DIOMEDES', nan),\n",
       " ('JAEDICKE ROBERT', nan),\n",
       " ('WINOKUR JR. HERBERT S', nan),\n",
       " ('BADUM JAMES P', nan),\n",
       " ('REYNOLDS LAWRENCE', nan),\n",
       " ('DIMICHELE RICHARD G', nan),\n",
       " ('CARTER REBECCA C', 0.09294871794871795),\n",
       " ('YEAP SOON', nan),\n",
       " ('YEAGER F SCOTT', nan),\n",
       " ('HIRKO JOSEPH', nan),\n",
       " ('DIETRICH JANET R', 0.11858475894245724),\n",
       " ('FREVERT MARK A', 0.07389312977099237),\n",
       " ('PAI LOU L', nan),\n",
       " ('BAY FRANKLIN R', nan),\n",
       " ('FUGH JOHN L', nan),\n",
       " ('SAVAGE FRANK', nan),\n",
       " ('GRAMM WENDY L', nan),\n",
       " ('DONAHUE JR JEFFREY M', 0.21734104046242775),\n",
       " ('GLISAN JR BEN F', 0.05956471935853379),\n",
       " ('DODSON KEITH', 0.056818181818181816),\n",
       " ('IZZO LAWRENCE L', 0.056451612903225805),\n",
       " ('HUGHES JAMES A', 0.048678720445062586),\n",
       " ('GARLAND C KEVIN', 0.04784688995215311),\n",
       " ('BUY RICHARD B', 0.04428044280442804),\n",
       " ('CAUSEY RICHARD A', 0.0306553911205074),\n",
       " ('DERRICK JR. JAMES V', 0.029344337459880788),\n",
       " ('FALLON JAMES B', 0.023931623931623933),\n",
       " ('KOENIG MARK E', 0.02232518955349621),\n",
       " ('TILNEY ELIZABETH A', 0.021739130434782608),\n",
       " ('ALLEN PHILLIP K', 0.016195727084769126),\n",
       " ('HAYSLETT RODERICK J', 0.01321253303133258),\n",
       " ('BROWN MICHAEL', 0.008748317631224764),\n",
       " ('SHARP VICTORIA T', 0.007653061224489796),\n",
       " ('MARTIN AMANDA K', 0.005256241787122208),\n",
       " ('MURRAY JULIA H', 0.005018248175182482),\n",
       " ('BHATNAGAR SANJAY', 0.0),\n",
       " ('BUCHANAN HAROLD G', 0.0),\n",
       " ('TAYLOR MITCHELL S', 0.0)]"
      ]
     },
     "execution_count": 9,
     "metadata": {},
     "output_type": "execute_result"
    }
   ],
   "source": [
    "proportion_from_poi_list = []\n",
    "for person, data in data_dict.items():\n",
    "    proportion_from_poi_list.append((person, data['proportion_from_poi']))\n",
    "    \n",
    "sorted(proportion_from_poi_list, key=lambda x: x[1], reverse=True)"
   ]
  },
  {
   "cell_type": "code",
   "execution_count": null,
   "metadata": {
    "collapsed": true
   },
   "outputs": [],
   "source": []
  }
 ],
 "metadata": {
  "anaconda-cloud": {},
  "kernelspec": {
   "display_name": "Python [conda env:DAND]",
   "language": "python",
   "name": "conda-env-DAND-py"
  },
  "language_info": {
   "codemirror_mode": {
    "name": "ipython",
    "version": 2
   },
   "file_extension": ".py",
   "mimetype": "text/x-python",
   "name": "python",
   "nbconvert_exporter": "python",
   "pygments_lexer": "ipython2",
   "version": "2.7.12"
  }
 },
 "nbformat": 4,
 "nbformat_minor": 2
}
